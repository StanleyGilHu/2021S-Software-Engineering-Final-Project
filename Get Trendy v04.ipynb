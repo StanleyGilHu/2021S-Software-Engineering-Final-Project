{
 "cells": [
  {
   "cell_type": "code",
   "execution_count": 1,
   "metadata": {},
   "outputs": [
    {
     "name": "stdout",
     "output_type": "stream",
     "text": [
      "[2006, 2007, 2008, 2009, 2010, 2011, 2012, 2013, 2014, 2015, 2016, 2017, 2018, 2019, 2020]\n"
     ]
    },
    {
     "ename": "NameError",
     "evalue": "name 'os' is not defined",
     "output_type": "error",
     "traceback": [
      "\u001b[1;31m---------------------------------------------------------------------------\u001b[0m",
      "\u001b[1;31mNameError\u001b[0m                                 Traceback (most recent call last)",
      "\u001b[1;32m<ipython-input-1-9aa0a1089df8>\u001b[0m in \u001b[0;36m<module>\u001b[1;34m\u001b[0m\n\u001b[0;32m      8\u001b[0m \u001b[0monlyfiles\u001b[0m \u001b[1;33m=\u001b[0m \u001b[1;33m[\u001b[0m\u001b[0mf\u001b[0m \u001b[1;32mfor\u001b[0m \u001b[0mf\u001b[0m \u001b[1;32min\u001b[0m \u001b[0mrange\u001b[0m\u001b[1;33m(\u001b[0m\u001b[1;36m2006\u001b[0m\u001b[1;33m,\u001b[0m\u001b[1;36m2021\u001b[0m\u001b[1;33m)\u001b[0m\u001b[1;33m]\u001b[0m \u001b[1;31m#2021 in order to include 2020.\u001b[0m\u001b[1;33m\u001b[0m\u001b[1;33m\u001b[0m\u001b[0m\n\u001b[0;32m      9\u001b[0m \u001b[0mprint\u001b[0m\u001b[1;33m(\u001b[0m\u001b[0monlyfiles\u001b[0m\u001b[1;33m)\u001b[0m\u001b[1;33m\u001b[0m\u001b[1;33m\u001b[0m\u001b[0m\n\u001b[1;32m---> 10\u001b[1;33m \u001b[0mdirName\u001b[0m \u001b[1;33m=\u001b[0m \u001b[1;33m(\u001b[0m\u001b[0mos\u001b[0m\u001b[1;33m.\u001b[0m\u001b[0mpath\u001b[0m\u001b[1;33m.\u001b[0m\u001b[0mabspath\u001b[0m\u001b[1;33m(\u001b[0m\u001b[0mos\u001b[0m\u001b[1;33m.\u001b[0m\u001b[0mgetcwd\u001b[0m\u001b[1;33m(\u001b[0m\u001b[1;33m)\u001b[0m\u001b[1;33m)\u001b[0m\u001b[1;33m)\u001b[0m \u001b[1;31m#dirname for directory Name\u001b[0m\u001b[1;33m\u001b[0m\u001b[1;33m\u001b[0m\u001b[0m\n\u001b[0m\u001b[0;32m     11\u001b[0m \u001b[1;33m\u001b[0m\u001b[0m\n\u001b[0;32m     12\u001b[0m \u001b[0minitialize\u001b[0m\u001b[1;33m(\u001b[0m\u001b[1;33m)\u001b[0m\u001b[1;33m\u001b[0m\u001b[1;33m\u001b[0m\u001b[0m\n",
      "\u001b[1;31mNameError\u001b[0m: name 'os' is not defined"
     ]
    }
   ],
   "source": [
    "import os\n",
    "import numpy as np\n",
    "import re\n",
    "import pandas as pd\n",
    "from os import listdir\n",
    "\n",
    "#this will likely be an intermediary stage, with final vers being v05 or v06 after further prototyping.\n",
    "# might also split some of the call methods into seperate files.\n",
    "\n",
    "onlyfiles = [f for f in range(2006,2021)] #2021 in order to include 2020.\n",
    "print(onlyfiles)\n",
    "dirName = (os.path.abspath(os.getcwd())) #dirname for directory Name\n",
    "\n",
    "initialize()\n",
    "    \n",
    "\n",
    "def initalize():\n",
    "    for aa in range(2006,2021):\n",
    "        #this method is for all the years we currently have on storage for initial databases.\n",
    "        songList=yearSongs(aa) #get total num of songs in the year\n",
    "        for ab in songList:\n",
    "            lyrics = songWords(aa, ab) #where f is the name of the song\n",
    "\n",
    "def yearSongs(f):\n",
    "    dirName = (os.path.abspath(os.getcwd())+\"\\\\\"+f) \n",
    "    #Requires that the python file be in the directory containing all the years to get the path to the year.\n",
    "    onlyfiles1 = [f for f in listdir(dirName)]\n",
    "    #gets a list of all the songs in the directory\n",
    "    return onlyfiles1\n",
    "    \n",
    "    \n",
    "def songWords(yearNum, file):\n",
    "    # WIP, see this later. Essential step. Used for getting all that data.\n",
    "    fileName = (os.path.abspath(os.getcwd())+\"\\\\\"+yearNum+\"\\\\\"+file) #gets filepath\n",
    "    openfile = open(filename) #opens file\n",
    "    songWords = re.split(r\"[\\s+.]\", openfile.read())\n",
    "    lyrics = [i.lower() for i in songWords] #converts to lower case\n",
    "    sorter = []\n",
    "    for ab in lyrics:\n",
    "        if ab not in sorter:\n",
    "            sorter.append(ab)\n",
    "    for ac in range(len(sorter)-2):\n",
    "        for ad in range(len(sorter)-1):\n",
    "            if (sorter[ac]<sorter[ad]):\n",
    "                temp=sorter[ac]\n",
    "                sorter[ac]=sorter[ad]\n",
    "                sorter[ad]=temp\n",
    "    \n",
    "    \n",
    "    \n",
    "    openfile.close()\n",
    "    \n",
    "    return sorter\n",
    "    #could make another method for the remaining recording part, or maybe work that into here. \n",
    "    \n",
    "    \n",
    "    \n",
    "    \n",
    "    \n",
    "    \n",
    "def yearTotal(f):\n",
    "    onlyfiles1 = yearSong(f)\n",
    "    total = 0\n",
    "    for d in onlyfiles1:\n",
    "        pathName = os.path.abspath(os.getcwd())+\"\\\\\"+f+\"\\\\\"+d\n",
    "        lyrics=fileOpen(pathName)\n",
    "        total = total+(len(lyrics))\n",
    "    \n",
    "def yearAverage(f):\n",
    "    onlyfiles1 = yearSong(f)\n",
    "    total = 0\n",
    "    for d in onlyfiles1:\n",
    "        pathName = os.path.abspath(os.getcwd())+\"\\\\\"+f+\"\\\\\"+d\n",
    "        lyrics=fileOpen(pathName)\n",
    "        total = total+(len(lyrics))\n",
    "    average1 = total / len(onlyfiles1)\n",
    "    return average1\n",
    "    \n",
    "    \n",
    "def fileOpen(fileName):\n",
    "    #this one returns a a file\n",
    "    Opened = open(fileName)\n",
    "    song = re.split(r\"[\\s+.]\", Opened.read()) \n",
    "\n",
    "    Opened.close()\n",
    "    return song"
   ]
  },
  {
   "cell_type": "code",
   "execution_count": null,
   "metadata": {},
   "outputs": [],
   "source": []
  }
 ],
 "metadata": {
  "kernelspec": {
   "display_name": "Python 3 (ipykernel)",
   "language": "python",
   "name": "python3"
  },
  "language_info": {
   "codemirror_mode": {
    "name": "ipython",
    "version": 3
   },
   "file_extension": ".py",
   "mimetype": "text/x-python",
   "name": "python",
   "nbconvert_exporter": "python",
   "pygments_lexer": "ipython3",
   "version": "3.9.7"
  }
 },
 "nbformat": 4,
 "nbformat_minor": 4
}
